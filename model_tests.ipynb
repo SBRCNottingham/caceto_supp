{
 "cells": [
  {
   "cell_type": "markdown",
   "metadata": {},
   "source": [
    "# C aceto GSM gsmodutils test suite\n",
    "\n",
    "This notebook demonstrates C. autoethanogenum GSM tests and analysis (Norman et al., 2018).\n",
    "Th\n",
    "\n",
    "Click on cells and press 'run' to view results this requires COBRApy (https://opencobra.github.io/cobrapy/) and gsmodutils (https://github.com/sbrcnottingham/gsmodutils)\n",
    "\n",
    "This notebook first shows usage of the command line tools to run the project's validation tests.\n",
    "The next section of the notebook shows how to use python to interact with the models.\n",
    "\n",
    "For a more featured tutorial, refer to the gsmodutils documentation at http://gsmodutils.readthedocs.io\n",
    "\n"
   ]
  },
  {
   "cell_type": "markdown",
   "metadata": {},
   "source": [
    "\n",
    "### Using the command line tools for gsmodutils\n",
    "First we view the project and run the tests with the gsmodutils command line interface.\n",
    "The info command below first shows us all the models (top level gsms), designs (additional reactions or constraints to apply to models) and conditions  (growth media settings) associated with the project."
   ]
  },
  {
   "cell_type": "code",
   "execution_count": 2,
   "metadata": {},
   "outputs": [
    {
     "name": "stdout",
     "output_type": "stream",
     "text": [
      "--------------------------------------------------------------------------------\n",
      "Project description - Clostridium auto (Nottingham/Brookes)\n",
      "Author(s): - Rupert Norman\n",
      "Author email - rupert.norman@nottingham.ac.uk\n",
      "Designs directory - designs\n",
      "Tests directory - tests   \n",
      "    \n",
      "Models:\n",
      "\u001b[32m\t* metaclau.json\u001b[0m\n",
      "\t\t metaclau\n",
      "Designs:\n",
      "********************************************************************************\n",
      "\u001b[32m\t* flux minimisation fluxm_flux_minimisation\u001b[0m\n",
      "\t\t \n",
      "    Minimisation of flux accross reactions as objective function\n",
      "    minimize absolute sum of enzyme-catalysed network flux (Row 1 of Table 3 in manuscript)\n",
      "    \n",
      "********************************************************************************\n",
      "\u001b[32m\t* flux minimisation h2 rest fluxm_flux_minimisation_h2_restricted\u001b[0m\n",
      "\tParent: fluxm_flux_minimisation\n",
      "\t\t\n",
      "    flux minimisation with h2 restriction\n",
      "    \n",
      "********************************************************************************\n",
      "Conditions:\n",
      "\t\tNo growth conditions found\u001b[0m\n",
      "--------------------------------------------------------------------------------\n"
     ]
    }
   ],
   "source": [
    "!command gsmodutils info"
   ]
  },
  {
   "cell_type": "markdown",
   "metadata": {},
   "source": [
    "The test command runs the default tests, ensuring that all models, designs and conditions load and grow as specified.\n",
    "The command then also runs the custom JSON and Python tests found in the tests folder.\n",
    "\n",
    "This should show which aspects of models run correctly. Carefully designed tests will hilight when modelling errors occurs.\n",
    "This is particularly important for propagating models.\n",
    "\n",
    "The designs are loaded from python files in the designs folder of the project, with tests being loaded from the test folder.\n",
    "\n",
    "Here we use verbose mode which shows all the success tests with their conditions."
   ]
  },
  {
   "cell_type": "code",
   "execution_count": 3,
   "metadata": {},
   "outputs": [
    {
     "name": "stdout",
     "output_type": "stream",
     "text": [
      "Collecting tests...\n",
      "\u001b[42m\u001b[1m------------------------- gsmodutils test results -------------------------\u001b[0m\n",
      "Running tests: \n",
      " 60%|██████████████████████████▍                 | 6/10 [00:12<00:08,  2.16s/it]cobra/util/solver.py:403 \u001b[1;31mUserWarning\u001b[0m: solver status is 'infeasible'\n",
      "100%|███████████████████████████████████████████| 10/10 [00:28<00:00,  2.87s/it]\n",
      "\n",
      "Default project file tests (models, designs, conditions):\n",
      "Counted 3 test assertions with 0 failures\n",
      "\u001b[32mProject file completed all tests without error\u001b[0m\n",
      "\u001b[32m    --model_metaclau.json\u001b[0m\n",
      "\n",
      "\u001b[32m    --design_fluxm_flux_minimisation\u001b[0m\n",
      "\n",
      "\u001b[32m    --design_fluxm_flux_minimisation_h2_restricted\u001b[0m\n",
      "\n",
      "Test file test_defaults.py:\n",
      "Counted 517 test assertions with 8 failures\n",
      "\u001b[31mTest file has test errors\u001b[0m\n",
      "\u001b[32m    --test_atpase_validity\u001b[0m\n",
      "\u001b[32m        --('metaclau.json', 'fluxm_flux_minimisation')\u001b[0m\n",
      "\n",
      "\u001b[32m        --('metaclau.json', 'fluxm_flux_minimisation_h2_restricted')\u001b[0m\n",
      "\n",
      "\u001b[32m        --metaclau.json\u001b[0m\n",
      "\n",
      "\n",
      "\u001b[32m    --test_acetate\u001b[0m\n",
      "\n",
      "\u001b[32m    --test_minimisation_reactions\u001b[0m\n",
      "\u001b[32m        --('metaclau.json', 'fluxm_flux_minimisation')\u001b[0m\n",
      "\n",
      "\u001b[32m        --('metaclau.json', 'fluxm_flux_minimisation_h2_restricted')\u001b[0m\n",
      "\n",
      "\n",
      "\u001b[32m    --test_minimisation_fluxm_products\u001b[0m\n",
      "\u001b[32m        --('metaclau.json', 'fluxm_flux_minimisation')\u001b[0m\n",
      "\n",
      "\n",
      "\u001b[32m    --test_minimisation_fluxm_h2_restricted_products\u001b[0m\n",
      "\u001b[32m        --('metaclau.json', 'fluxm_flux_minimisation_h2_restricted')\u001b[0m\n",
      "\n",
      "\n",
      "\u001b[31m    --test_essential_reactions\u001b[0m\n",
      "\u001b[31m        --('metaclau.json', 'fluxm_flux_minimisation')\u001b[0m\n",
      "\u001b[31m        Asserion error: Reaction lited as essential PHEAMINOTRANS-RXN is not essential - solution = 74.2333267923171\u001b[0m\n",
      "\u001b[31m        Asserion error: Reaction lited as essential petroselinate_synth is not essential - solution = 74.26349448246843\u001b[0m\n",
      "\u001b[31m        Asserion error: Reaction lited as essential TYROSINE-AMINOTRANSFERASE-RXN is not essential - solution = 74.21192761700947\u001b[0m\n",
      "\u001b[31m        Asserion error: Reaction lited as essential stearate_synth is not essential - solution = 74.15499882243239\u001b[0m\n",
      "\n",
      "\u001b[31m        --('metaclau.json', 'fluxm_flux_minimisation_h2_restricted')\u001b[0m\n",
      "\u001b[31m        Asserion error: Reaction lited as essential PHEAMINOTRANS-RXN is not essential - solution = 74.23332679231683\u001b[0m\n",
      "\u001b[31m        Asserion error: Reaction lited as essential petroselinate_synth is not essential - solution = 74.26349448246866\u001b[0m\n",
      "\u001b[31m        Asserion error: Reaction lited as essential TYROSINE-AMINOTRANSFERASE-RXN is not essential - solution = 74.2119276170096\u001b[0m\n",
      "\u001b[31m        Asserion error: Reaction lited as essential stearate_synth is not essential - solution = 74.1549988224324\u001b[0m\n",
      "\n",
      "\u001b[32m        --metaclau.json\u001b[0m\n",
      "\n",
      "\n",
      "Ran 520 test assertions with a total of 8 errors (98.462% success)\n"
     ]
    }
   ],
   "source": [
    "!command gsmodutils test"
   ]
  },
  {
   "cell_type": "markdown",
   "metadata": {},
   "source": [
    "## Using the python interface\n",
    "\n",
    "Alternatively we can run the tests with python an load the logs with the test log viewer.\n",
    "The returned object is a dictionary showing the status of all tests and their children (assertions made in tests)."
   ]
  },
  {
   "cell_type": "code",
   "execution_count": 25,
   "metadata": {},
   "outputs": [
    {
     "name": "stderr",
     "output_type": "stream",
     "text": [
      " 60%|██████    | 6/10 [00:12<00:08,  2.15s/it]cobra/util/solver.py:403 \u001b[1;31mUserWarning\u001b[0m: solver status is 'infeasible'\n",
      "100%|██████████| 10/10 [00:27<00:00,  2.77s/it]\n"
     ]
    }
   ],
   "source": [
    "from __future__ import print_function\n",
    "from matplotlib import pyplot as plt\n",
    "import numpy as np\n",
    "import json\n",
    "import cobra\n",
    "import gsmodutils\n",
    "project = gsmodutils.GSMProject()\n",
    "\n",
    "test_logs = project.run_tests() # Test_logs is just a dictionary storing the above results"
   ]
  },
  {
   "cell_type": "markdown",
   "metadata": {},
   "source": [
    "### Performing analysis (loading designs and models)\n",
    "We would like to perform more indepth analysis with our models. The following sections highlight some of the results presented in the initial C aceto genom scale model paper (Norman et al. 2018).\n",
    "\n",
    "We load the model with the project context.\n",
    "\n",
    "The summary should show that the model grows on CO and produces Biomass with carbon dioxide and acetate among the products for conventional FBA using Biomass as the model objective. "
   ]
  },
  {
   "cell_type": "code",
   "execution_count": 6,
   "metadata": {},
   "outputs": [
    {
     "name": "stdout",
     "output_type": "stream",
     "text": [
      "IN FLUXES                   OUT FLUXES                 OBJECTIVES\n",
      "--------------------------  -------------------------  ------------------\n",
      "x_CARBON-MON...  10         x_CARBON-DIO...  5.04      EX_BIOMASS  0.0106\n",
      "x_WATER           4.77      x_ACET           2.31\n",
      "x_AMMONIA         0.0731    x_PROTON         2.28\n",
      "x_Pi              0.0627    x_PPI            0.0194\n",
      "x_HS              0.0018    x_BIOMASS        0.0106\n",
      "x_NIACINE         0.000958  x_ADENOSYL-H...  0.000636\n",
      "                            x_GLYCOL         0.000451\n"
     ]
    }
   ],
   "source": [
    "model = project.load_model()\n",
    "\n",
    "model.summary()"
   ]
  },
  {
   "cell_type": "markdown",
   "metadata": {},
   "source": [
    "Next, we would like to load one of the designs that alters the constraints of the model to allow different behaviour.\n",
    "The first example of this is to use the minimisation of flux accross enzymatic reaction methods (commonly used by scrumpy) also often known as parsimonious FBA.\n",
    "\n",
    "To do this we load the design, we then look at the solution this produces."
   ]
  },
  {
   "cell_type": "code",
   "execution_count": 12,
   "metadata": {},
   "outputs": [
    {
     "name": "stdout",
     "output_type": "stream",
     "text": [
      "acetate: 0.061787589248978314\n",
      "ethanol: 2.690969301995662\n",
      "CO2: 12.023437903930102\n",
      "CO: -18.43954304598722\n"
     ]
    }
   ],
   "source": [
    "model = project.load_design(\"fluxm_flux_minimisation\")\n",
    "sol = model.optimize()\n",
    "v = sol.fluxes\n",
    "\n",
    "print('acetate:',v['EX_ACET'])\n",
    "print('ethanol:',v['EX_ETOH'])\n",
    "print('CO2:',v['EX_CARBON-DIOXIDE'])\n",
    "print('CO:',v['EX_CARBON-MONOXIDE'])\n"
   ]
  },
  {
   "cell_type": "markdown",
   "metadata": {},
   "source": [
    "Now we would like perform a flux scan, altering the level of CO as the carbon source and understanding how the products change."
   ]
  },
  {
   "cell_type": "code",
   "execution_count": 19,
   "metadata": {},
   "outputs": [
    {
     "name": "stderr",
     "output_type": "stream",
     "text": [
      "cobra/util/solver.py:403 \u001b[1;31mUserWarning\u001b[0m: solver status is 'infeasible'\n"
     ]
    },
    {
     "data": {
      "image/png": "[encoded data removed]",
      "text/plain": [
       "<matplotlib.figure.Figure at 0x7f9e0921ae10>"
      ]
     },
     "metadata": {},
     "output_type": "display_data"
    }
   ],
   "source": [
    "%matplotlib inline\n",
    "from matplotlib import pyplot as plt\n",
    "\n",
    "model = project.load_design(\"fluxm_flux_minimisation\")\n",
    "\n",
    "v_acetate = [] ; v_ethanol = [] ; v_lactate = [] ; v_butanediol = [] ; v_hydrogen = [] ; v_CO2 = []\n",
    "\n",
    "\n",
    "co_uptake_range = np.arange(15,50,1) #define range of co uptake fluxes (args: start, stop, step)\n",
    "#fba scan\n",
    "for co_uptake in co_uptake_range:\n",
    "    model.reactions.get_by_id('EX_CARBON-MONOXIDE').bounds = (-co_uptake,-co_uptake)\n",
    "    sol = model.optimize()\n",
    "    v = sol.fluxes\n",
    "    v_acetate.append(v['EX_ACET'])\n",
    "    v_ethanol.append(v['EX_ETOH'])\n",
    "    v_lactate.append(v['EX_D-LACTATE'])\n",
    "    v_butanediol.append(v['EX_BUTANEDIOL'])\n",
    "    v_hydrogen.append(v['EX_HYDROGEN-MOLECULE'])\n",
    "    v_CO2.append(v['EX_CARBON-DIOXIDE'])\n",
    "\n",
    "#plot co uptake vs. products\n",
    "fig, ax = plt.subplots(2,3)\n",
    "ax[0,0].plot(co_uptake_range,v_acetate)\n",
    "ax[0,0].set_title('acetate')\n",
    "\n",
    "ax[1,0].plot(co_uptake_range,v_ethanol)\n",
    "ax[1,0].set_title('ethanol')\n",
    "\n",
    "ax[0,1].plot(co_uptake_range,v_lactate)\n",
    "ax[0,1].set_title('lactate')\n",
    "\n",
    "ax[1,1].plot(co_uptake_range,v_butanediol)\n",
    "ax[1,1].set_title('butanediol')\n",
    "\n",
    "ax[0,2].plot(co_uptake_range,v_hydrogen)\n",
    "ax[0,2].set_title('hydrogen')\n",
    "\n",
    "ax[1,2].plot(co_uptake_range,v_CO2)\n",
    "ax[1,2].set_title('carbon dioxide')\n",
    "\n",
    "plt.tight_layout()"
   ]
  },
  {
   "cell_type": "markdown",
   "metadata": {},
   "source": [
    "This shows that the hydrogen output increaseas as a product of the increased Carbon monoxide uptake. However, products such as butanediol and lactate are not products.\n",
    "\n",
    "When restricting the hydrogen exporter we find different results:"
   ]
  },
  {
   "cell_type": "code",
   "execution_count": 23,
   "metadata": {},
   "outputs": [
    {
     "name": "stderr",
     "output_type": "stream",
     "text": [
      "cobra/util/solver.py:403 \u001b[1;31mUserWarning\u001b[0m: solver status is 'infeasible'\n"
     ]
    },
    {
     "data": {
      "image/png": "[encoded data removed]",
      "text/plain": [
       "<matplotlib.figure.Figure at 0x7f9de8212fd0>"
      ]
     },
     "metadata": {},
     "output_type": "display_data"
    }
   ],
   "source": [
    "model = project.load_design('fluxm_flux_minimisation_h2_restricted')\n",
    "v_acetate = [] ; v_ethanol = [] ; v_lactate = [] ; v_butanediol = [] ; v_hydrogen = [] ; v_CO2 = []\n",
    "\n",
    "\n",
    "co_uptake_range = np.arange(15,50,1) #define range of co uptake fluxes (args: start, stop, step)\n",
    "#fba scan\n",
    "for co_uptake in co_uptake_range:\n",
    "\n",
    "    model.reactions.get_by_id('EX_CARBON-MONOXIDE').bounds = (-co_uptake,-co_uptake)\n",
    "    sol = model.optimize()\n",
    "    v = sol.fluxes\n",
    "    v_acetate.append(v['EX_ACET'])\n",
    "    v_ethanol.append(v['EX_ETOH'])\n",
    "    v_lactate.append(v['EX_D-LACTATE'])\n",
    "    v_butanediol.append(v['EX_BUTANEDIOL'])\n",
    "    v_hydrogen.append(v['EX_HYDROGEN-MOLECULE'])\n",
    "    v_CO2.append(v['EX_CARBON-DIOXIDE'])\n",
    "\n",
    "#plot co uptake vs. products\n",
    "fig, ax = plt.subplots(2,3)\n",
    "ax[0,0].plot(co_uptake_range,v_acetate)\n",
    "ax[0,0].set_title('acetate')\n",
    "\n",
    "ax[1,0].plot(co_uptake_range,v_ethanol)\n",
    "ax[1,0].set_title('ethanol')\n",
    "\n",
    "ax[0,1].plot(co_uptake_range,v_lactate)\n",
    "ax[0,1].set_title('lactate')\n",
    "\n",
    "ax[1,1].plot(co_uptake_range,v_butanediol)\n",
    "ax[1,1].set_title('butanediol')\n",
    "\n",
    "ax[0,2].plot(co_uptake_range,v_hydrogen)\n",
    "ax[0,2].set_title('hydrogen')\n",
    "\n",
    "ax[1,2].plot(co_uptake_range,v_CO2)\n",
    "ax[1,2].set_title('carbon dioxide')\n",
    "\n",
    "plt.tight_layout()\n"
   ]
  },
  {
   "cell_type": "markdown",
   "metadata": {},
   "source": [
    "The above plots show similar behaviour for acetate and ethanol and CO2 production, but we can see that the lactate and butanediol production occurs as the cell needs to find a way to export excess hydrogen. "
   ]
  },
  {
   "cell_type": "markdown",
   "metadata": {},
   "source": [
    "## Conclusion\n",
    "\n",
    "This notebook has shown how to use gsmodutils in two standard forms, firstly to view project info of an existing project and to run a set of resuable tests on existing genome scale models and strain designs.\n",
    "Secondly, we showed how the python interface of gsmodutils can be used to interface with these strain designs to perform different forms of flux balance analysis.\n",
    "The analysis shows that the genome scale model replicates the clostridium acetobutylicum behaviour under hydrogen limiting conditons to produce lactate and butanediol.\n",
    "This code can easily be adapted to create new designs and analysis.\n"
   ]
  },
  {
   "cell_type": "code",
   "execution_count": null,
   "metadata": {},
   "outputs": [],
   "source": []
  }
 ],
 "metadata": {
  "kernelspec": {
   "display_name": "Python 3",
   "language": "python",
   "name": "python3"
  },
  "language_info": {
   "codemirror_mode": {
    "name": "ipython",
    "version": 3
   },
   "file_extension": ".py",
   "mimetype": "text/x-python",
   "name": "python",
   "nbconvert_exporter": "python",
   "pygments_lexer": "ipython3",
   "version": "3.6.3"
  }
 },
 "nbformat": 4,
 "nbformat_minor": 2
}
