{
 "cells": [
  {
   "cell_type": "markdown",
   "metadata": {},
   "source": [
    "# C aceto GSM gsmodutils test suite\n",
    "\n",
    "This notebook demonstrates C. autoethanogenum GSM tests and analysis (Norman et al., 2018)\n",
    "\n",
    "click on cells and press 'run' to view results\n",
    "requires COBRApy (https://opencobra.github.io/cobrapy/) and gsmodutils (https://github.com/sbrcnottingham/gsmodutils)\n",
    "\n",
    "The first thing is to load up the required modules and load the project."
   ]
  },
  {
   "cell_type": "code",
   "execution_count": 1,
   "metadata": {},
   "outputs": [],
   "source": [
    "from __future__ import print_function\n",
    "from matplotlib import pyplot as plt\n",
    "import numpy as np\n",
    "import json\n",
    "import cobra\n",
    "import gsmodutils\n",
    "project = gsmodutils.GSMProject()"
   ]
  },
  {
   "cell_type": "markdown",
   "metadata": {},
   "source": [
    "Here we view the project and run the tests with the gsmodutils command line interface.\n",
    "The info command below first shows us all the models (top level gsms), designs (additional reactions or constraints to apply to models) and conditions  (growth media settings) associated with the project."
   ]
  },
  {
   "cell_type": "code",
   "execution_count": 2,
   "metadata": {},
   "outputs": [
    {
     "name": "stdout",
     "output_type": "stream",
     "text": [
      "--------------------------------------------------------------------------------\n",
      "Project description - Clostridium auto (Nottingham/Brookes)\n",
      "Author(s): - Rupert Norman\n",
      "Author email - rupert.norman@nottingham.ac.uk\n",
      "Designs directory - designs\n",
      "Tests directory - tests   \n",
      "    \n",
      "Models:\n",
      "\u001b[32m\t* metaclau.json\u001b[0m\n",
      "\t\t metaclau\n",
      "Designs:\n",
      "********************************************************************************\n",
      "\u001b[32m\t* flux minimisation fluxm_flux_minimisation\u001b[0m\n",
      "\t\t \n",
      "    Minimisation of flux accross reactions as objective function\n",
      "    minimize absolute sum of enzyme-catalysed network flux (Row 1 of Table 3 in manuscript)\n",
      "    \n",
      "********************************************************************************\n",
      "\u001b[32m\t* flux minimisation h2 rest fluxm_flux_minimisation_h2_restricted\u001b[0m\n",
      "\tParent: fluxm_flux_minimisation\n",
      "\t\t\n",
      "    flux minimisation with h2 restriction\n",
      "    \n",
      "********************************************************************************\n",
      "Conditions:\n",
      "\t\tNo growth conditions found\u001b[0m\n",
      "--------------------------------------------------------------------------------\n"
     ]
    }
   ],
   "source": [
    "!command gsmodutils info"
   ]
  },
  {
   "cell_type": "markdown",
   "metadata": {},
   "source": [
    "The test command runs the default tests, ensuring that all models, designs and conditions load and grow as specified.\n",
    "The command then also runs the custom JSON and Python tests found in the tests folder.\n",
    "\n",
    "This should show which aspects of models run correctly. Carefully designed tests will hilight when modelling errors occurs.\n",
    "This is particularly important for propagating models.\n",
    "\n",
    "The designs are loaded from python files in the designs folder of the project, with tests being loaded from the test folder.\n",
    "\n",
    "Here we use verbose mode which shows all the success tests with their conditions."
   ]
  },
  {
   "cell_type": "code",
   "execution_count": 32,
   "metadata": {},
   "outputs": [
    {
     "name": "stdout",
     "output_type": "stream",
     "text": [
      "Collecting tests...\n",
      "\u001b[42m\u001b[1m------------------------- gsmodutils test results -------------------------\u001b[0m\n",
      "Running tests: \n",
      " 60%|██████████████████████████▍                 | 6/10 [00:12<00:08,  2.05s/it]cobra/util/solver.py:403 \u001b[1;31mUserWarning\u001b[0m: solver status is 'infeasible'\n",
      "100%|███████████████████████████████████████████| 10/10 [00:26<00:00,  2.68s/it]\n",
      "\n",
      "Default project file tests (models, designs, conditions):\n",
      "Counted 3 test assertions with 0 failures\n",
      "\u001b[32mProject file completed all tests without error\u001b[0m\n",
      "\u001b[32m    --model_metaclau.json\u001b[0m\n",
      "\n",
      "\u001b[32m    --design_fluxm_flux_minimisation\u001b[0m\n",
      "\n",
      "\u001b[32m    --design_fluxm_flux_minimisation_h2_restricted\u001b[0m\n",
      "\n",
      "Test file test_defaults.py:\n",
      "Counted 517 test assertions with 8 failures\n",
      "\u001b[31mTest file has test errors\u001b[0m\n",
      "\u001b[32m    --test_atpase_validity\u001b[0m\n",
      "\u001b[32m        --('metaclau.json', 'fluxm_flux_minimisation')\u001b[0m\n",
      "\n",
      "\u001b[32m        --('metaclau.json', 'fluxm_flux_minimisation_h2_restricted')\u001b[0m\n",
      "\n",
      "\u001b[32m        --metaclau.json\u001b[0m\n",
      "\n",
      "\n",
      "\u001b[32m    --test_acetate\u001b[0m\n",
      "\n",
      "\u001b[32m    --test_minimisation_reactions\u001b[0m\n",
      "\u001b[32m        --('metaclau.json', 'fluxm_flux_minimisation')\u001b[0m\n",
      "\n",
      "\u001b[32m        --('metaclau.json', 'fluxm_flux_minimisation_h2_restricted')\u001b[0m\n",
      "\n",
      "\n",
      "\u001b[32m    --test_minimisation_fluxm_products\u001b[0m\n",
      "\u001b[32m        --('metaclau.json', 'fluxm_flux_minimisation')\u001b[0m\n",
      "\n",
      "\n",
      "\u001b[32m    --test_minimisation_fluxm_h2_restricted_products\u001b[0m\n",
      "\u001b[32m        --('metaclau.json', 'fluxm_flux_minimisation_h2_restricted')\u001b[0m\n",
      "\n",
      "\n",
      "\u001b[31m    --test_essential_reactions\u001b[0m\n",
      "\u001b[31m        --('metaclau.json', 'fluxm_flux_minimisation')\u001b[0m\n",
      "\u001b[31m        Asserion error: Reaction lited as essential PHEAMINOTRANS-RXN is not essential - solution = 74.2333267923171\u001b[0m\n",
      "\u001b[31m        Asserion error: Reaction lited as essential petroselinate_synth is not essential - solution = 74.26349448246843\u001b[0m\n",
      "\u001b[31m        Asserion error: Reaction lited as essential TYROSINE-AMINOTRANSFERASE-RXN is not essential - solution = 74.21192761700947\u001b[0m\n",
      "\u001b[31m        Asserion error: Reaction lited as essential stearate_synth is not essential - solution = 74.15499882243239\u001b[0m\n",
      "\n",
      "\u001b[31m        --('metaclau.json', 'fluxm_flux_minimisation_h2_restricted')\u001b[0m\n",
      "\u001b[31m        Asserion error: Reaction lited as essential PHEAMINOTRANS-RXN is not essential - solution = 74.23332679231683\u001b[0m\n",
      "\u001b[31m        Asserion error: Reaction lited as essential petroselinate_synth is not essential - solution = 74.26349448246866\u001b[0m\n",
      "\u001b[31m        Asserion error: Reaction lited as essential TYROSINE-AMINOTRANSFERASE-RXN is not essential - solution = 74.2119276170096\u001b[0m\n",
      "\u001b[31m        Asserion error: Reaction lited as essential stearate_synth is not essential - solution = 74.1549988224324\u001b[0m\n",
      "\n",
      "\u001b[32m        --metaclau.json\u001b[0m\n",
      "\n",
      "\n",
      "Ran 520 test assertions with a total of 8 errors (98.462% success)\n"
     ]
    }
   ],
   "source": [
    "!command gsmodutils test"
   ]
  },
  {
   "cell_type": "markdown",
   "metadata": {},
   "source": [
    "Alternatively we can run the tests with python an load the logs with the test log viewer.\n",
    "The returned object is a dictionary showing the status of all tests and their children (assertions made in tests)."
   ]
  },
  {
   "cell_type": "code",
   "execution_count": 16,
   "metadata": {},
   "outputs": [
    {
     "name": "stderr",
     "output_type": "stream",
     "text": [
      " 67%|██████▋   | 6/9 [00:06<00:03,  1.05s/it]cobra/util/solver.py:403 \u001b[1;31mUserWarning\u001b[0m: solver status is 'infeasible'\n",
      "100%|██████████| 9/9 [00:10<00:00,  1.12s/it]\n"
     ]
    }
   ],
   "source": [
    "test_logs = project.run_tests()"
   ]
  },
  {
   "cell_type": "markdown",
   "metadata": {},
   "source": [
    "## Performing analysis\n",
    "We would like to perform more indepth analysis with our models. The following sections highlight some of the results presented in the initial C aceto genom scale model paper (Norman et al. 2018).\n",
    "\n",
    "\n"
   ]
  },
  {
   "cell_type": "code",
   "execution_count": 18,
   "metadata": {},
   "outputs": [
    {
     "name": "stdout",
     "output_type": "stream",
     "text": [
      "IN FLUXES                   OUT FLUXES                 OBJECTIVES\n",
      "--------------------------  -------------------------  ------------------\n",
      "x_CARBON-MON...  10         x_CARBON-DIO...  5.04      EX_BIOMASS  0.0106\n",
      "x_WATER           4.77      x_ACET           2.31\n",
      "x_AMMONIA         0.0731    x_PROTON         2.28\n",
      "x_Pi              0.0627    x_PPI            0.0194\n",
      "x_HS              0.0018    x_BIOMASS        0.0106\n",
      "x_NIACINE         0.000958  x_ADENOSYL-H...  0.000636\n",
      "                            x_GLYCOL         0.000451\n"
     ]
    }
   ],
   "source": [
    "model = project.load_model()\n",
    "\n",
    "model.summary()"
   ]
  },
  {
   "cell_type": "code",
   "execution_count": null,
   "metadata": {},
   "outputs": [],
   "source": []
  },
  {
   "cell_type": "code",
   "execution_count": null,
   "metadata": {},
   "outputs": [],
   "source": []
  },
  {
   "cell_type": "code",
   "execution_count": null,
   "metadata": {},
   "outputs": [],
   "source": []
  }
 ],
 "metadata": {
  "kernelspec": {
   "display_name": "Python 3",
   "language": "python",
   "name": "python3"
  },
  "language_info": {
   "codemirror_mode": {
    "name": "ipython",
    "version": 3
   },
   "file_extension": ".py",
   "mimetype": "text/x-python",
   "name": "python",
   "nbconvert_exporter": "python",
   "pygments_lexer": "ipython3",
   "version": "3.6.3"
  }
 },
 "nbformat": 4,
 "nbformat_minor": 2
}
