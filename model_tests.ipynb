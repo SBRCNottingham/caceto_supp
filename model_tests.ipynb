{
 "cells": [
  {
   "cell_type": "markdown",
   "metadata": {},
   "source": [
    "# C aceto GSM gsmodutils test suite\n",
    "\n",
    "This notebook demonstrates C. autoethanogenum GSM tests and analysis (Norman et al., 2018).\n",
    "Th\n",
    "\n",
    "Click on cells and press 'run' to view results this requires COBRApy (https://opencobra.github.io/cobrapy/) and gsmodutils (https://github.com/sbrcnottingham/gsmodutils)\n",
    "\n",
    "This notebook first shows usage of the command line tools to run the project's validation tests.\n",
    "The next section of the notebook shows how to use python to interact with the models.\n",
    "\n",
    "For a more featured tutorial, refer to the gsmodutils documentation at http://gsmodutils.readthedocs.io\n",
    "\n"
   ]
  },
  {
   "cell_type": "markdown",
   "metadata": {},
   "source": [
    "\n",
    "### Using the command line tools for gsmodutils\n",
    "First we view the project and run the tests with the gsmodutils command line interface.\n",
    "The info command below first shows us all the models (top level gsms), designs (additional reactions or constraints to apply to models) and conditions  (growth media settings) associated with the project."
   ]
  },
  {
   "cell_type": "code",
   "execution_count": 1,
   "metadata": {},
   "outputs": [
    {
     "name": "stdout",
     "output_type": "stream",
     "text": [
      "--------------------------------------------------------------------------------\n",
      "Project description - Clostridium auto (Nottingham/Brookes)\n",
      "Author(s): - Rupert Norman\n",
      "Author email - rupert.norman@nottingham.ac.uk\n",
      "Designs directory - designs\n",
      "Tests directory - tests   \n",
      "    \n",
      "Models:\n",
      "\u001b[32m\t* metaclau.json\u001b[0m\n",
      "\t\t metaclau\n",
      "Designs:\n",
      "********************************************************************************\n",
      "\u001b[32m\t* flux minimisation fluxm_flux_minimisation\u001b[0m\n",
      "\t\t \n",
      "    Minimisation of flux accross reactions as objective function\n",
      "    minimize absolute sum of enzyme-catalysed network flux (Row 1 of Table 3 in manuscript)\n",
      "    \n",
      "********************************************************************************\n",
      "\u001b[32m\t* flux minimisation h2 rest fluxm_flux_minimisation_h2_restricted\u001b[0m\n",
      "\tParent: fluxm_flux_minimisation\n",
      "\t\t\n",
      "    flux minimisation with h2 restriction\n",
      "    \n",
      "********************************************************************************\n",
      "Conditions:\n",
      "\t\tNo growth conditions found\u001b[0m\n",
      "--------------------------------------------------------------------------------\n"
     ]
    }
   ],
   "source": [
    "!command gsmodutils info"
   ]
  },
  {
   "cell_type": "markdown",
   "metadata": {},
   "source": [
    "The test command runs the default tests, ensuring that all models, designs and conditions load and grow as specified.\n",
    "The command then also runs the custom JSON and Python tests found in the tests folder.\n",
    "\n",
    "This should show which aspects of models run correctly. Carefully designed tests will hilight when modelling errors occurs.\n",
    "This is particularly important for propagating models.\n",
    "\n",
    "The designs are loaded from python files in the designs folder of the project, with tests being loaded from the test folder.\n",
    "\n",
    "Here we use verbose mode which shows all the success tests with their conditions."
   ]
  },
  {
   "cell_type": "code",
   "execution_count": 4,
   "metadata": {},
   "outputs": [],
   "source": [
    "!command gsmodutils test"
   ]
  },
  {
   "cell_type": "markdown",
   "metadata": {},
   "source": [
    "## Using the python interface\n",
    "\n",
    "Alternatively we can run the tests with python an load the logs with the test log viewer.\n",
    "The returned object is a dictionary showing the status of all tests and their children (assertions made in tests)."
   ]
  },
  {
   "cell_type": "code",
   "execution_count": 5,
   "metadata": {},
   "outputs": [
    {
     "name": "stderr",
     "output_type": "stream",
     "text": [
      "\n",
      "  0%|          | 0/21 [00:00<?, ?it/s]\u001b[A\n",
      " 10%|▉         | 2/21 [00:00<00:08,  2.30it/s]\u001b[A\n",
      " 14%|█▍        | 3/21 [00:13<01:12,  4.05s/it]\u001b[A\n",
      " 19%|█▉        | 4/21 [00:28<02:06,  7.42s/it]\u001b[A\n",
      " 33%|███▎      | 7/21 [00:43<01:33,  6.70s/it]\u001b[A\n",
      " 38%|███▊      | 8/21 [01:00<02:06,  9.69s/it]\u001b[A\n",
      " 43%|████▎     | 9/21 [01:01<01:24,  7.01s/it]\u001b[A\n",
      " 48%|████▊     | 10/21 [01:01<00:56,  5.18s/it]\u001b[A\n",
      " 57%|█████▋    | 12/21 [01:15<00:51,  5.68s/it]\u001b[A\n",
      " 62%|██████▏   | 13/21 [01:31<01:10,  8.86s/it]\u001b[A\n",
      " 71%|███████▏  | 15/21 [01:47<00:51,  8.57s/it]\u001b[A\n",
      " 81%|████████  | 17/21 [02:27<00:47, 11.93s/it]\u001b[A\n",
      " 90%|█████████ | 19/21 [02:58<00:26, 13.08s/it]\u001b[A\n",
      " 95%|█████████▌| 20/21 [03:31<00:18, 18.80s/it]\u001b[A\n",
      "100%|██████████| 21/21 [03:33<00:00, 10.18s/it]\u001b[A\n"
     ]
    }
   ],
   "source": [
    "from __future__ import print_function\n",
    "from matplotlib import pyplot as plt\n",
    "import numpy as np\n",
    "import json\n",
    "import cobra\n",
    "import gsmodutils\n",
    "project = gsmodutils.GSMProject()\n",
    "\n",
    "test_logs = project.run_tests() # Test_logs is just a dictionary storing the above results"
   ]
  },
  {
   "cell_type": "markdown",
   "metadata": {},
   "source": [
    "### Performing analysis (loading designs and models)\n",
    "We would like to perform more indepth analysis with our models. The following sections highlight some of the results presented in the initial C aceto genom scale model paper (Norman et al. 2018).\n",
    "\n",
    "We load the model with the project context.\n",
    "\n",
    "The summary should show that the model grows on CO and produces Biomass with carbon dioxide and acetate among the products for conventional FBA using Biomass as the model objective. "
   ]
  },
  {
   "cell_type": "code",
   "execution_count": 6,
   "metadata": {},
   "outputs": [
    {
     "data": {
      "text/html": [
       "<div>\n",
       "<style scoped>\n",
       "    .dataframe tbody tr th:only-of-type {\n",
       "        vertical-align: middle;\n",
       "    }\n",
       "\n",
       "    .dataframe tbody tr th {\n",
       "        vertical-align: top;\n",
       "    }\n",
       "\n",
       "    .dataframe thead tr th {\n",
       "        text-align: left;\n",
       "    }\n",
       "</style>\n",
       "<table border=\"1\" class=\"dataframe\">\n",
       "  <thead>\n",
       "    <tr>\n",
       "      <th></th>\n",
       "      <th colspan=\"2\" halign=\"left\">IN_FLUXES</th>\n",
       "      <th colspan=\"2\" halign=\"left\">OUT_FLUXES</th>\n",
       "      <th colspan=\"2\" halign=\"left\">OBJECTIVES</th>\n",
       "    </tr>\n",
       "    <tr>\n",
       "      <th></th>\n",
       "      <th>ID</th>\n",
       "      <th>FLUX</th>\n",
       "      <th>ID</th>\n",
       "      <th>FLUX</th>\n",
       "      <th>ID</th>\n",
       "      <th>FLUX</th>\n",
       "    </tr>\n",
       "  </thead>\n",
       "  <tbody>\n",
       "    <tr>\n",
       "      <td>0</td>\n",
       "      <td>x_CARBON-MONOXIDE</td>\n",
       "      <td>10.000000</td>\n",
       "      <td>x_CARBON-DIOXIDE</td>\n",
       "      <td>5.042734</td>\n",
       "      <td>EX_BIOMASS</td>\n",
       "      <td>0.010617</td>\n",
       "    </tr>\n",
       "    <tr>\n",
       "      <td>1</td>\n",
       "      <td>x_WATER</td>\n",
       "      <td>4.771929</td>\n",
       "      <td>x_ACET</td>\n",
       "      <td>2.305990</td>\n",
       "      <td>NaN</td>\n",
       "      <td>NaN</td>\n",
       "    </tr>\n",
       "    <tr>\n",
       "      <td>2</td>\n",
       "      <td>NaN</td>\n",
       "      <td>NaN</td>\n",
       "      <td>x_PROTON</td>\n",
       "      <td>2.280373</td>\n",
       "      <td>NaN</td>\n",
       "      <td>NaN</td>\n",
       "    </tr>\n",
       "  </tbody>\n",
       "</table>\n",
       "</div>"
      ],
      "text/plain": [
       "<cobra.core.summary.model_summary.ModelSummary at 0x7f86f64b0dd0>"
      ]
     },
     "execution_count": 6,
     "metadata": {},
     "output_type": "execute_result"
    }
   ],
   "source": [
    "model = project.load_model()\n",
    "\n",
    "model.summary()"
   ]
  },
  {
   "cell_type": "markdown",
   "metadata": {},
   "source": [
    "Next, we would like to load one of the designs that alters the constraints of the model to allow different behaviour.\n",
    "The first example of this is to use the minimisation of flux accross enzymatic reaction methods (commonly used by scrumpy) also often known as parsimonious FBA.\n",
    "\n",
    "To do this we load the design, we then look at the solution this produces."
   ]
  },
  {
   "cell_type": "code",
   "execution_count": 7,
   "metadata": {},
   "outputs": [],
   "source": [
    "model = project.load_design(\"fluxm_flux_minimisation\")\n",
    "sol = model.optimize()\n",
    "v = sol.fluxes\n",
    "\n",
    "print('acetate:',v['EX_ACET'])\n",
    "print('ethanol:',v['EX_ETOH'])\n",
    "print('CO2:',v['EX_CARBON-DIOXIDE'])\n",
    "print('CO:',v['EX_CARBON-MONOXIDE'])\n"
   ]
  },
  {
   "cell_type": "markdown",
   "metadata": {},
   "source": [
    "Now we would like perform a flux scan, altering the level of CO as the carbon source and understanding how the products change."
   ]
  },
  {
   "cell_type": "code",
   "execution_count": 8,
   "metadata": {},
   "outputs": [
    {
     "data": {
      "image/png": "[encoded data removed]",
      "text/plain": [
       "<Figure size 432x288 with 6 Axes>"
      ]
     },
     "metadata": {
      "needs_background": "light"
     },
     "output_type": "display_data"
    }
   ],
   "source": [
    "%matplotlib inline\n",
    "from matplotlib import pyplot as plt\n",
    "\n",
    "model = project.load_design(\"fluxm_flux_minimisation\")\n",
    "\n",
    "v_acetate = [] ; v_ethanol = [] ; v_lactate = [] ; v_butanediol = [] ; v_hydrogen = [] ; v_CO2 = []\n",
    "\n",
    "\n",
    "co_uptake_range = np.arange(15,50,1) #define range of co uptake fluxes (args: start, stop, step)\n",
    "#fba scan\n",
    "for co_uptake in co_uptake_range:\n",
    "    model.reactions.get_by_id('EX_CARBON-MONOXIDE').bounds = (-co_uptake,-co_uptake)\n",
    "    sol = model.optimize()\n",
    "    v = sol.fluxes\n",
    "    v_acetate.append(v['EX_ACET'])\n",
    "    v_ethanol.append(v['EX_ETOH'])\n",
    "    v_lactate.append(v['EX_D-LACTATE'])\n",
    "    v_butanediol.append(v['EX_BUTANEDIOL'])\n",
    "    v_hydrogen.append(v['EX_HYDROGEN-MOLECULE'])\n",
    "    v_CO2.append(v['EX_CARBON-DIOXIDE'])\n",
    "\n",
    "#plot co uptake vs. products\n",
    "fig, ax = plt.subplots(2,3)\n",
    "ax[0,0].plot(co_uptake_range,v_acetate)\n",
    "ax[0,0].set_title('acetate')\n",
    "\n",
    "ax[1,0].plot(co_uptake_range,v_ethanol)\n",
    "ax[1,0].set_title('ethanol')\n",
    "\n",
    "ax[0,1].plot(co_uptake_range,v_lactate)\n",
    "ax[0,1].set_title('lactate')\n",
    "\n",
    "ax[1,1].plot(co_uptake_range,v_butanediol)\n",
    "ax[1,1].set_title('butanediol')\n",
    "\n",
    "ax[0,2].plot(co_uptake_range,v_hydrogen)\n",
    "ax[0,2].set_title('hydrogen')\n",
    "\n",
    "ax[1,2].plot(co_uptake_range,v_CO2)\n",
    "ax[1,2].set_title('carbon dioxide')\n",
    "\n",
    "plt.tight_layout()"
   ]
  },
  {
   "cell_type": "markdown",
   "metadata": {},
   "source": [
    "This shows that the hydrogen output increaseas as a product of the increased Carbon monoxide uptake. However, products such as butanediol and lactate are not products.\n",
    "\n",
    "When restricting the hydrogen exporter we find different results:"
   ]
  },
  {
   "cell_type": "code",
   "execution_count": 9,
   "metadata": {},
   "outputs": [
    {
     "data": {
      "image/png": "[encoded data removed]",
      "text/plain": [
       "<Figure size 432x288 with 6 Axes>"
      ]
     },
     "metadata": {
      "needs_background": "light"
     },
     "output_type": "display_data"
    }
   ],
   "source": [
    "model = project.load_design('fluxm_flux_minimisation_h2_restricted')\n",
    "v_acetate = [] ; v_ethanol = [] ; v_lactate = [] ; v_butanediol = [] ; v_hydrogen = [] ; v_CO2 = []\n",
    "\n",
    "\n",
    "co_uptake_range = np.arange(15,50,1) #define range of co uptake fluxes (args: start, stop, step)\n",
    "#fba scan\n",
    "for co_uptake in co_uptake_range:\n",
    "\n",
    "    model.reactions.get_by_id('EX_CARBON-MONOXIDE').bounds = (-co_uptake,-co_uptake)\n",
    "    sol = model.optimize()\n",
    "    v = sol.fluxes\n",
    "    v_acetate.append(v['EX_ACET'])\n",
    "    v_ethanol.append(v['EX_ETOH'])\n",
    "    v_lactate.append(v['EX_D-LACTATE'])\n",
    "    v_butanediol.append(v['EX_BUTANEDIOL'])\n",
    "    v_hydrogen.append(v['EX_HYDROGEN-MOLECULE'])\n",
    "    v_CO2.append(v['EX_CARBON-DIOXIDE'])\n",
    "\n",
    "#plot co uptake vs. products\n",
    "fig, ax = plt.subplots(2,3)\n",
    "ax[0,0].plot(co_uptake_range,v_acetate)\n",
    "ax[0,0].set_title('acetate')\n",
    "\n",
    "ax[1,0].plot(co_uptake_range,v_ethanol)\n",
    "ax[1,0].set_title('ethanol')\n",
    "\n",
    "ax[0,1].plot(co_uptake_range,v_lactate)\n",
    "ax[0,1].set_title('lactate')\n",
    "\n",
    "ax[1,1].plot(co_uptake_range,v_butanediol)\n",
    "ax[1,1].set_title('butanediol')\n",
    "\n",
    "ax[0,2].plot(co_uptake_range,v_hydrogen)\n",
    "ax[0,2].set_title('hydrogen')\n",
    "\n",
    "ax[1,2].plot(co_uptake_range,v_CO2)\n",
    "ax[1,2].set_title('carbon dioxide')\n",
    "\n",
    "plt.tight_layout()\n"
   ]
  },
  {
   "cell_type": "markdown",
   "metadata": {},
   "source": [
    "The above plots show similar behaviour for acetate and ethanol and CO2 production, but we can see that the lactate and butanediol production occurs as the cell needs to find a way to export excess hydrogen. "
   ]
  },
  {
   "cell_type": "markdown",
   "metadata": {},
   "source": [
    "## Conclusion\n",
    "\n",
    "This notebook has shown how to use gsmodutils in two standard forms, firstly to view project info of an existing project and to run a set of resuable tests on existing genome scale models and strain designs.\n",
    "Secondly, we showed how the python interface of gsmodutils can be used to interface with these strain designs to perform different forms of flux balance analysis.\n",
    "The analysis shows that the genome scale model replicates the clostridium acetobutylicum behaviour under hydrogen limiting conditons to produce lactate and butanediol.\n",
    "This code can easily be adapted to create new designs and analysis.\n"
   ]
  },
  {
   "cell_type": "code",
   "execution_count": null,
   "metadata": {},
   "outputs": [],
   "source": []
  }
 ],
 "metadata": {
  "kernelspec": {
   "display_name": "Python 3",
   "language": "python",
   "name": "python3"
  },
  "language_info": {
   "codemirror_mode": {
    "name": "ipython",
    "version": 3
   },
   "file_extension": ".py",
   "mimetype": "text/x-python",
   "name": "python",
   "nbconvert_exporter": "python",
   "pygments_lexer": "ipython3",
   "version": "3.7.4"
  }
 },
 "nbformat": 4,
 "nbformat_minor": 4
}
